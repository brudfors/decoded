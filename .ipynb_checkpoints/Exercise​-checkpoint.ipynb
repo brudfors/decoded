{
 "cells": [
  {
   "cell_type": "code",
   "execution_count": 1,
   "metadata": {},
   "outputs": [],
   "source": [
    "# This code pulls some height data of the web, visualises this data, \n",
    "# then fits a normal distribution to it, to show that ~68% of the data\n",
    "# falls within one standard deviation from the mean\n",
    "\n",
    "# Dependencies: requests, pandas, matplotlib, numpy\n",
    "\n",
    "import requests\n",
    "import pandas as pd\n",
    "import matplotlib.pyplot as plt\n",
    "import numpy as np\n",
    "import warnings\n",
    "warnings.filterwarnings('ignore')"
   ]
  },
  {
   "cell_type": "code",
   "execution_count": 2,
   "metadata": {},
   "outputs": [],
   "source": [
    "# Get height data from the SOCR Data Dinov 020108 HeightsWeights dataset using pandas\n",
    "# https://tinyurl.com/ybd9sojj\n",
    "\n",
    "url = 'http://socr.ucla.edu/docs/resources/SOCR_Data/SOCR_Data_Dinov_020108_HeightsWeights.html'\n",
    "\n",
    "html = requests.get(url).content\n",
    "dfl  = pd.read_html(html, header=0)\n",
    "df   = dfl[0]"
   ]
  },
  {
   "cell_type": "code",
   "execution_count": null,
   "metadata": {},
   "outputs": [],
   "source": [
    "# Read heights into a numpy array\n",
    "\n",
    "Nx = 10**4; # Maximum number of heights\n",
    "\n",
    "x = np.matrix(df.values)\n",
    "x = df.values\n",
    "x = x[:Nx,1]\n",
    "x = 2.54*x # Convert inches to cm\n",
    "\n",
    "print('Loaded ' + str(len(x)) + ' persons heights.')    "
   ]
  },
  {
   "cell_type": "code",
   "execution_count": null,
   "metadata": {},
   "outputs": [],
   "source": [
    "# Show histogram of height data\n",
    "\n",
    "plt.hist(x, normed=True, bins=50, histtype='bar', ec='black') #  normed -> normalised\n",
    "plt.xlabel('Height [cm]')\n",
    "plt.title('Empirical distriubtion from histogram')\n",
    "plt.show()"
   ]
  },
  {
   "cell_type": "code",
   "execution_count": null,
   "metadata": {},
   "outputs": [],
   "source": [
    "# Fit a normal distribution to the height data\n",
    "\n",
    "# Calculate sample mean and standard deviation\n",
    "mu  = np.sum(x)/Nx                     # 1/Nx sum_i x_i\n",
    "sig = np.sqrt(np.sum((x - mu)**2)/Nx)  # sqrt(1/Nx sum_i (x_i - mu)^2)\n",
    "\n",
    "print('Sample | mean= ' + str(mu) + ', standard deviation=' + str(sig))  \n",
    "\n",
    "# Get mean and standard deviation using NumPy\n",
    "mu  = np.mean(x)\n",
    "sig = np.std(x)\n",
    "\n",
    "print('NumPy  | mean= ' + str(mu) + ', standard deviation=' + str(sig))    "
   ]
  },
  {
   "cell_type": "code",
   "execution_count": null,
   "metadata": {},
   "outputs": [],
   "source": [
    "# Compute probability of each height given it is drawn from a normal distribution with the above parameters\n",
    "\n",
    "# 1/(sqrt(2pi) sig) exp(-(x - mu)^2/(2sig^2))\n",
    "fx = 1/(np.sqrt(2*np.pi)*sig) * np.exp(-(x - mu)**2/(2*sig**2))\n",
    "\n",
    "# Visualise\n",
    "plt.scatter(x[:], fx[:], color='r', zorder=2, marker='.')\n",
    "plt.title('Probability of each height measurement')\n",
    "plt.xlabel('Height [cm]')\n",
    "plt.show()"
   ]
  },
  {
   "cell_type": "code",
   "execution_count": null,
   "metadata": {},
   "outputs": [],
   "source": [
    "# Show both histogram and fitted normal\n",
    "\n",
    "plt.scatter(x[:], fx[:], color='r', zorder=2, marker='.')\n",
    "plt.hist(x, normed=True, bins=50, zorder=1, histtype='bar', ec='black') #  normed -> normalised\n",
    "plt.xlabel('Height [cm]');\n",
    "\n",
    "plt.axvline(x=mu,color='m')\n",
    "plt.show()"
   ]
  },
  {
   "cell_type": "code",
   "execution_count": null,
   "metadata": {},
   "outputs": [],
   "source": [
    "# Theoretically, how many heights should fall within one standard deviation of the mean?\n",
    "\n",
    "mx_x = mu + sig # 'right' of mean\n",
    "mn_x = mu - sig # 'left' of mean\n",
    "\n",
    "plt.scatter(x[:], fx[:], color='r', zorder=2, marker='.')\n",
    "plt.hist(x, normed=True, bins=50, zorder=1, histtype='bar', ec='black') #  normed -> normalised\n",
    "plt.xlabel('Height [cm]');\n",
    "\n",
    "plt.axvline(x=mu,color='m')\n",
    "plt.axvline(x=mx_x,color='y')\n",
    "plt.axvline(x=mn_x,color='y')\n",
    "plt.show()\n",
    "\n",
    "val = 0.68*Nx\n",
    "print(str(int(val)) + ' should fall within one standard deviation of the mean.')    "
   ]
  },
  {
   "cell_type": "code",
   "execution_count": null,
   "metadata": {},
   "outputs": [],
   "source": [
    "# In reality, these many heights fall within one standard deviation of the mean\n",
    "\n",
    "x1 = x[x > mn_x]\n",
    "x1 = x1[x1 < mx_x]\n",
    "\n",
    "val = len(x1)\n",
    "print(str(int(val)) + ' falls within one standard deviation of the mean.') "
   ]
  }
 ],
 "metadata": {
  "kernelspec": {
   "display_name": "Python 3",
   "language": "python",
   "name": "python3"
  },
  "language_info": {
   "codemirror_mode": {
    "name": "ipython",
    "version": 3
   },
   "file_extension": ".py",
   "mimetype": "text/x-python",
   "name": "python",
   "nbconvert_exporter": "python",
   "pygments_lexer": "ipython3",
   "version": "3.7.0"
  }
 },
 "nbformat": 4,
 "nbformat_minor": 2
}
